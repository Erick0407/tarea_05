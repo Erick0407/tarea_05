{
 "cells": [
  {
   "cell_type": "markdown",
   "id": "439f98b9-0a81-48ea-9aed-52ae2bca02a8",
   "metadata": {},
   "source": [
    "#### 1. Importación de Librerias"
   ]
  },
  {
   "cell_type": "code",
   "execution_count": 1,
   "id": "462667b7-c2a2-4538-8008-916425d97e15",
   "metadata": {},
   "outputs": [],
   "source": [
    "import pandas as pd\n",
    "import numpy as np"
   ]
  },
  {
   "cell_type": "markdown",
   "id": "aafd8264-aa45-4881-be96-116a3d20871c",
   "metadata": {},
   "source": [
    "#### 2. Inicialización del notebook"
   ]
  },
  {
   "cell_type": "code",
   "execution_count": 2,
   "id": "9589a78f-739c-456c-889b-8ac50135e710",
   "metadata": {},
   "outputs": [
    {
     "name": "stdout",
     "output_type": "stream",
     "text": [
      "Dimensiones del DataFrame: (150, 5)\n"
     ]
    },
    {
     "data": {
      "text/html": [
       "<div>\n",
       "<style scoped>\n",
       "    .dataframe tbody tr th:only-of-type {\n",
       "        vertical-align: middle;\n",
       "    }\n",
       "\n",
       "    .dataframe tbody tr th {\n",
       "        vertical-align: top;\n",
       "    }\n",
       "\n",
       "    .dataframe thead th {\n",
       "        text-align: right;\n",
       "    }\n",
       "</style>\n",
       "<table border=\"1\" class=\"dataframe\">\n",
       "  <thead>\n",
       "    <tr style=\"text-align: right;\">\n",
       "      <th></th>\n",
       "      <th>sepal length</th>\n",
       "      <th>sepal width</th>\n",
       "      <th>petal length</th>\n",
       "      <th>petal width</th>\n",
       "      <th>class</th>\n",
       "    </tr>\n",
       "  </thead>\n",
       "  <tbody>\n",
       "    <tr>\n",
       "      <th>0</th>\n",
       "      <td>5.1</td>\n",
       "      <td>3.5</td>\n",
       "      <td>1.4</td>\n",
       "      <td>0.2</td>\n",
       "      <td>Iris-setosa</td>\n",
       "    </tr>\n",
       "    <tr>\n",
       "      <th>1</th>\n",
       "      <td>4.9</td>\n",
       "      <td>3.0</td>\n",
       "      <td>1.4</td>\n",
       "      <td>0.2</td>\n",
       "      <td>Iris-setosa</td>\n",
       "    </tr>\n",
       "    <tr>\n",
       "      <th>2</th>\n",
       "      <td>4.7</td>\n",
       "      <td>3.2</td>\n",
       "      <td>1.3</td>\n",
       "      <td>0.2</td>\n",
       "      <td>Iris-setosa</td>\n",
       "    </tr>\n",
       "    <tr>\n",
       "      <th>3</th>\n",
       "      <td>4.6</td>\n",
       "      <td>3.1</td>\n",
       "      <td>1.5</td>\n",
       "      <td>0.2</td>\n",
       "      <td>Iris-setosa</td>\n",
       "    </tr>\n",
       "    <tr>\n",
       "      <th>4</th>\n",
       "      <td>5.0</td>\n",
       "      <td>3.6</td>\n",
       "      <td>1.4</td>\n",
       "      <td>0.2</td>\n",
       "      <td>Iris-setosa</td>\n",
       "    </tr>\n",
       "  </tbody>\n",
       "</table>\n",
       "</div>"
      ],
      "text/plain": [
       "   sepal length  sepal width  petal length  petal width        class\n",
       "0           5.1          3.5           1.4          0.2  Iris-setosa\n",
       "1           4.9          3.0           1.4          0.2  Iris-setosa\n",
       "2           4.7          3.2           1.3          0.2  Iris-setosa\n",
       "3           4.6          3.1           1.5          0.2  Iris-setosa\n",
       "4           5.0          3.6           1.4          0.2  Iris-setosa"
      ]
     },
     "execution_count": 2,
     "metadata": {},
     "output_type": "execute_result"
    }
   ],
   "source": [
    "# Carga de datos desde URL:\n",
    "df = pd.read_csv('https://raw.githubusercontent.com/plotly/datasets/master/iris-data.csv')\n",
    "# Tamaño del DataFrame:\n",
    "print(f\"Dimensiones del DataFrame: {df.shape}\")\n",
    "# Primeras 5 filas del DataFrame:\n",
    "df.head()"
   ]
  },
  {
   "cell_type": "markdown",
   "id": "73272b62-9cd2-4703-a775-9a2beb0e55a8",
   "metadata": {},
   "source": [
    "#### 3. Describiendo el DataSet"
   ]
  },
  {
   "cell_type": "markdown",
   "id": "f563d6ab-1d43-44e6-9bcb-f644c3ffbb70",
   "metadata": {},
   "source": [
    "##### 3.1 ¿Qué columnas tiene el dataset y que representan?"
   ]
  },
  {
   "cell_type": "code",
   "execution_count": 3,
   "id": "6a56f04b-681e-4fef-805d-6d3553e7e402",
   "metadata": {},
   "outputs": [
    {
     "name": "stdout",
     "output_type": "stream",
     "text": [
      "<class 'pandas.core.frame.DataFrame'>\n",
      "RangeIndex: 150 entries, 0 to 149\n",
      "Data columns (total 5 columns):\n",
      " #   Column        Non-Null Count  Dtype  \n",
      "---  ------        --------------  -----  \n",
      " 0   sepal length  150 non-null    float64\n",
      " 1   sepal width   150 non-null    float64\n",
      " 2   petal length  150 non-null    float64\n",
      " 3   petal width   150 non-null    float64\n",
      " 4   class         150 non-null    object \n",
      "dtypes: float64(4), object(1)\n",
      "memory usage: 6.0+ KB\n"
     ]
    }
   ],
   "source": [
    "# Información general de la tabla\n",
    "df.info()"
   ]
  },
  {
   "cell_type": "markdown",
   "id": "77490646-95ae-4001-931e-ca8904f717b5",
   "metadata": {},
   "source": [
    "**Respuesta:** El dataset posee 5 columnas en total; 4 de ellas son de tipo decimal (float) que representan partes de la flor (Largo del Sepalo, Ancho del Sepalo, Largo del Petalo y Ancho del Petalo). Además, posee 1 columna del tipo objetc, que indica el tipo de flor (setosa, virginica, versicolor)."
   ]
  }
 ],
 "metadata": {
  "kernelspec": {
   "display_name": "proyecto_final (Python 3.12)",
   "language": "python",
   "name": "proyecto_final"
  },
  "language_info": {
   "codemirror_mode": {
    "name": "ipython",
    "version": 3
   },
   "file_extension": ".py",
   "mimetype": "text/x-python",
   "name": "python",
   "nbconvert_exporter": "python",
   "pygments_lexer": "ipython3",
   "version": "3.12.4"
  }
 },
 "nbformat": 4,
 "nbformat_minor": 5
}

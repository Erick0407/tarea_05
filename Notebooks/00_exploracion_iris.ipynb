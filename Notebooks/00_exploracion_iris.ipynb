{
 "cells": [
  {
   "cell_type": "markdown",
   "id": "439f98b9-0a81-48ea-9aed-52ae2bca02a8",
   "metadata": {},
   "source": [
    "#### 1. Importación de Librerias"
   ]
  },
  {
   "cell_type": "code",
   "execution_count": 1,
   "id": "462667b7-c2a2-4538-8008-916425d97e15",
   "metadata": {},
   "outputs": [],
   "source": [
    "import pandas as pd\n",
    "import numpy as np"
   ]
  },
  {
   "cell_type": "markdown",
   "id": "aafd8264-aa45-4881-be96-116a3d20871c",
   "metadata": {},
   "source": [
    "#### 2. Inicialización del notebook"
   ]
  },
  {
   "cell_type": "code",
   "execution_count": 2,
   "id": "9589a78f-739c-456c-889b-8ac50135e710",
   "metadata": {},
   "outputs": [
    {
     "name": "stdout",
     "output_type": "stream",
     "text": [
      "Dimensiones del DataFrame: (150, 5)\n"
     ]
    },
    {
     "data": {
      "text/html": [
       "<div>\n",
       "<style scoped>\n",
       "    .dataframe tbody tr th:only-of-type {\n",
       "        vertical-align: middle;\n",
       "    }\n",
       "\n",
       "    .dataframe tbody tr th {\n",
       "        vertical-align: top;\n",
       "    }\n",
       "\n",
       "    .dataframe thead th {\n",
       "        text-align: right;\n",
       "    }\n",
       "</style>\n",
       "<table border=\"1\" class=\"dataframe\">\n",
       "  <thead>\n",
       "    <tr style=\"text-align: right;\">\n",
       "      <th></th>\n",
       "      <th>sepal length</th>\n",
       "      <th>sepal width</th>\n",
       "      <th>petal length</th>\n",
       "      <th>petal width</th>\n",
       "      <th>class</th>\n",
       "    </tr>\n",
       "  </thead>\n",
       "  <tbody>\n",
       "    <tr>\n",
       "      <th>0</th>\n",
       "      <td>5.1</td>\n",
       "      <td>3.5</td>\n",
       "      <td>1.4</td>\n",
       "      <td>0.2</td>\n",
       "      <td>Iris-setosa</td>\n",
       "    </tr>\n",
       "    <tr>\n",
       "      <th>1</th>\n",
       "      <td>4.9</td>\n",
       "      <td>3.0</td>\n",
       "      <td>1.4</td>\n",
       "      <td>0.2</td>\n",
       "      <td>Iris-setosa</td>\n",
       "    </tr>\n",
       "    <tr>\n",
       "      <th>2</th>\n",
       "      <td>4.7</td>\n",
       "      <td>3.2</td>\n",
       "      <td>1.3</td>\n",
       "      <td>0.2</td>\n",
       "      <td>Iris-setosa</td>\n",
       "    </tr>\n",
       "    <tr>\n",
       "      <th>3</th>\n",
       "      <td>4.6</td>\n",
       "      <td>3.1</td>\n",
       "      <td>1.5</td>\n",
       "      <td>0.2</td>\n",
       "      <td>Iris-setosa</td>\n",
       "    </tr>\n",
       "    <tr>\n",
       "      <th>4</th>\n",
       "      <td>5.0</td>\n",
       "      <td>3.6</td>\n",
       "      <td>1.4</td>\n",
       "      <td>0.2</td>\n",
       "      <td>Iris-setosa</td>\n",
       "    </tr>\n",
       "  </tbody>\n",
       "</table>\n",
       "</div>"
      ],
      "text/plain": [
       "   sepal length  sepal width  petal length  petal width        class\n",
       "0           5.1          3.5           1.4          0.2  Iris-setosa\n",
       "1           4.9          3.0           1.4          0.2  Iris-setosa\n",
       "2           4.7          3.2           1.3          0.2  Iris-setosa\n",
       "3           4.6          3.1           1.5          0.2  Iris-setosa\n",
       "4           5.0          3.6           1.4          0.2  Iris-setosa"
      ]
     },
     "execution_count": 2,
     "metadata": {},
     "output_type": "execute_result"
    }
   ],
   "source": [
    "# Carga de datos desde URL:\n",
    "df = pd.read_csv('https://raw.githubusercontent.com/plotly/datasets/master/iris-data.csv')\n",
    "# Tamaño del DataFrame:\n",
    "print(f\"Dimensiones del DataFrame: {df.shape}\")\n",
    "# Primeras 5 filas del DataFrame:\n",
    "df.head()"
   ]
  },
  {
   "cell_type": "markdown",
   "id": "73272b62-9cd2-4703-a775-9a2beb0e55a8",
   "metadata": {},
   "source": [
    "#### 3. Describiendo el DataSet"
   ]
  },
  {
   "cell_type": "markdown",
   "id": "f563d6ab-1d43-44e6-9bcb-f644c3ffbb70",
   "metadata": {},
   "source": [
    "##### 3.1 ¿Qué columnas tiene el dataset y que representan?"
   ]
  },
  {
   "cell_type": "code",
   "execution_count": 3,
   "id": "6a56f04b-681e-4fef-805d-6d3553e7e402",
   "metadata": {},
   "outputs": [
    {
     "name": "stdout",
     "output_type": "stream",
     "text": [
      "<class 'pandas.core.frame.DataFrame'>\n",
      "RangeIndex: 150 entries, 0 to 149\n",
      "Data columns (total 5 columns):\n",
      " #   Column        Non-Null Count  Dtype  \n",
      "---  ------        --------------  -----  \n",
      " 0   sepal length  150 non-null    float64\n",
      " 1   sepal width   150 non-null    float64\n",
      " 2   petal length  150 non-null    float64\n",
      " 3   petal width   150 non-null    float64\n",
      " 4   class         150 non-null    object \n",
      "dtypes: float64(4), object(1)\n",
      "memory usage: 6.0+ KB\n"
     ]
    }
   ],
   "source": [
    "# Información general de la tabla\n",
    "df.info()"
   ]
  },
  {
   "cell_type": "markdown",
   "id": "77490646-95ae-4001-931e-ca8904f717b5",
   "metadata": {},
   "source": [
    "**Respuesta:** El dataset posee 5 columnas en total; 4 de ellas son de tipo decimal (float) que representan partes de la flor (Largo del Sepalo, Ancho del Sepalo, Largo del Petalo y Ancho del Petalo). Además, posee 1 columna del tipo objetc, que indica el tipo de flor (setosa, virginica, versicolor)."
   ]
  },
  {
   "cell_type": "markdown",
   "id": "8bef4c1f-5b6c-46c2-8e6c-2dddb438751b",
   "metadata": {},
   "source": [
    "##### 3.2 ¿Existen valores nulos en el dataset?"
   ]
  },
  {
   "cell_type": "code",
   "execution_count": 10,
   "id": "6cd991e4-6a38-4f8a-86f6-f537000bf0cd",
   "metadata": {},
   "outputs": [
    {
     "data": {
      "text/html": [
       "<div>\n",
       "<style scoped>\n",
       "    .dataframe tbody tr th:only-of-type {\n",
       "        vertical-align: middle;\n",
       "    }\n",
       "\n",
       "    .dataframe tbody tr th {\n",
       "        vertical-align: top;\n",
       "    }\n",
       "\n",
       "    .dataframe thead th {\n",
       "        text-align: right;\n",
       "    }\n",
       "</style>\n",
       "<table border=\"1\" class=\"dataframe\">\n",
       "  <thead>\n",
       "    <tr style=\"text-align: right;\">\n",
       "      <th></th>\n",
       "      <th>sepal length</th>\n",
       "      <th>sepal width</th>\n",
       "      <th>petal length</th>\n",
       "      <th>petal width</th>\n",
       "      <th>class</th>\n",
       "    </tr>\n",
       "  </thead>\n",
       "  <tbody>\n",
       "    <tr>\n",
       "      <th>0</th>\n",
       "      <td>False</td>\n",
       "      <td>False</td>\n",
       "      <td>False</td>\n",
       "      <td>False</td>\n",
       "      <td>False</td>\n",
       "    </tr>\n",
       "    <tr>\n",
       "      <th>1</th>\n",
       "      <td>False</td>\n",
       "      <td>False</td>\n",
       "      <td>False</td>\n",
       "      <td>False</td>\n",
       "      <td>False</td>\n",
       "    </tr>\n",
       "    <tr>\n",
       "      <th>2</th>\n",
       "      <td>False</td>\n",
       "      <td>False</td>\n",
       "      <td>False</td>\n",
       "      <td>False</td>\n",
       "      <td>False</td>\n",
       "    </tr>\n",
       "    <tr>\n",
       "      <th>3</th>\n",
       "      <td>False</td>\n",
       "      <td>False</td>\n",
       "      <td>False</td>\n",
       "      <td>False</td>\n",
       "      <td>False</td>\n",
       "    </tr>\n",
       "    <tr>\n",
       "      <th>4</th>\n",
       "      <td>False</td>\n",
       "      <td>False</td>\n",
       "      <td>False</td>\n",
       "      <td>False</td>\n",
       "      <td>False</td>\n",
       "    </tr>\n",
       "    <tr>\n",
       "      <th>...</th>\n",
       "      <td>...</td>\n",
       "      <td>...</td>\n",
       "      <td>...</td>\n",
       "      <td>...</td>\n",
       "      <td>...</td>\n",
       "    </tr>\n",
       "    <tr>\n",
       "      <th>145</th>\n",
       "      <td>False</td>\n",
       "      <td>False</td>\n",
       "      <td>False</td>\n",
       "      <td>False</td>\n",
       "      <td>False</td>\n",
       "    </tr>\n",
       "    <tr>\n",
       "      <th>146</th>\n",
       "      <td>False</td>\n",
       "      <td>False</td>\n",
       "      <td>False</td>\n",
       "      <td>False</td>\n",
       "      <td>False</td>\n",
       "    </tr>\n",
       "    <tr>\n",
       "      <th>147</th>\n",
       "      <td>False</td>\n",
       "      <td>False</td>\n",
       "      <td>False</td>\n",
       "      <td>False</td>\n",
       "      <td>False</td>\n",
       "    </tr>\n",
       "    <tr>\n",
       "      <th>148</th>\n",
       "      <td>False</td>\n",
       "      <td>False</td>\n",
       "      <td>False</td>\n",
       "      <td>False</td>\n",
       "      <td>False</td>\n",
       "    </tr>\n",
       "    <tr>\n",
       "      <th>149</th>\n",
       "      <td>False</td>\n",
       "      <td>False</td>\n",
       "      <td>False</td>\n",
       "      <td>False</td>\n",
       "      <td>False</td>\n",
       "    </tr>\n",
       "  </tbody>\n",
       "</table>\n",
       "<p>150 rows × 5 columns</p>\n",
       "</div>"
      ],
      "text/plain": [
       "     sepal length  sepal width  petal length  petal width  class\n",
       "0           False        False         False        False  False\n",
       "1           False        False         False        False  False\n",
       "2           False        False         False        False  False\n",
       "3           False        False         False        False  False\n",
       "4           False        False         False        False  False\n",
       "..            ...          ...           ...          ...    ...\n",
       "145         False        False         False        False  False\n",
       "146         False        False         False        False  False\n",
       "147         False        False         False        False  False\n",
       "148         False        False         False        False  False\n",
       "149         False        False         False        False  False\n",
       "\n",
       "[150 rows x 5 columns]"
      ]
     },
     "execution_count": 10,
     "metadata": {},
     "output_type": "execute_result"
    }
   ],
   "source": [
    "# Detección de valores nulos\n",
    "df.isna()"
   ]
  },
  {
   "cell_type": "code",
   "execution_count": 11,
   "id": "540734a8-4927-4702-9bba-e0e47fa598df",
   "metadata": {},
   "outputs": [
    {
     "data": {
      "text/plain": [
       "sepal length    0\n",
       "sepal width     0\n",
       "petal length    0\n",
       "petal width     0\n",
       "class           0\n",
       "dtype: int64"
      ]
     },
     "execution_count": 11,
     "metadata": {},
     "output_type": "execute_result"
    }
   ],
   "source": [
    "# Sumatoria de valores nulos\n",
    "df.isna().sum()"
   ]
  },
  {
   "cell_type": "markdown",
   "id": "ee1be516-30e6-4c6e-9b4c-5ddf9aed3718",
   "metadata": {},
   "source": [
    "**Respuesta:** De acuerdo al análisis, no existen datos nulos en el dataset. Para esto se ha utilizado método `isna()`."
   ]
  },
  {
   "cell_type": "markdown",
   "id": "031c9a45-9446-4640-be80-018fd1ca33a8",
   "metadata": {},
   "source": [
    "##### 3.3 Estadísticas de cada columna numérica"
   ]
  },
  {
   "cell_type": "code",
   "execution_count": 27,
   "id": "9b588d02-38bc-44c1-a3a8-f709d3308342",
   "metadata": {},
   "outputs": [
    {
     "name": "stdout",
     "output_type": "stream",
     "text": [
      "Estadísticas de la columna Sepal Length: \n",
      "count    150.00\n",
      "mean       5.84\n",
      "std        0.83\n",
      "min        4.30\n",
      "25%        5.10\n",
      "50%        5.80\n",
      "75%        6.40\n",
      "max        7.90\n",
      "Name: sepal length, dtype: float64\n",
      "--------------------------------------------------\n",
      "Estadísticas de la columna Sepal Width: \n",
      "count    150.00\n",
      "mean       3.05\n",
      "std        0.43\n",
      "min        2.00\n",
      "25%        2.80\n",
      "50%        3.00\n",
      "75%        3.30\n",
      "max        4.40\n",
      "Name: sepal width, dtype: float64\n",
      "--------------------------------------------------\n",
      "Estadísticas de la columna Petal Length: \n",
      "count    150.00\n",
      "mean       3.76\n",
      "std        1.76\n",
      "min        1.00\n",
      "25%        1.60\n",
      "50%        4.35\n",
      "75%        5.10\n",
      "max        6.90\n",
      "Name: petal length, dtype: float64\n",
      "--------------------------------------------------\n",
      "Estadísticas de la columna Petal Width: \n",
      "count    150.00\n",
      "mean       1.20\n",
      "std        0.76\n",
      "min        0.10\n",
      "25%        0.30\n",
      "50%        1.30\n",
      "75%        1.80\n",
      "max        2.50\n",
      "Name: petal width, dtype: float64\n"
     ]
    }
   ],
   "source": [
    "# Estadísticas de cada columna numérica utilizando método describe()\n",
    "print(f\"Estadísticas de la columna Sepal Length: \\n{round(df[\"sepal length\"].describe(),2)}\")\n",
    "print(\"--------------------------------------------------\")\n",
    "print(f\"Estadísticas de la columna Sepal Width: \\n{round(df[\"sepal width\"].describe(),2)}\")\n",
    "print(\"--------------------------------------------------\")\n",
    "print(f\"Estadísticas de la columna Petal Length: \\n{round(df[\"petal length\"].describe(),2)}\")\n",
    "print(\"--------------------------------------------------\")\n",
    "print(f\"Estadísticas de la columna Petal Width: \\n{round(df[\"petal width\"].describe(),2)}\")"
   ]
  },
  {
   "cell_type": "markdown",
   "id": "ad823003-8168-4409-b441-5b4ad409b828",
   "metadata": {},
   "source": [
    "##### 3.4 ¿Cuántas filas existen para cada flor?"
   ]
  },
  {
   "cell_type": "code",
   "execution_count": 28,
   "id": "24bf24ed-e7df-4ba8-953d-220866d1592b",
   "metadata": {},
   "outputs": [
    {
     "data": {
      "text/plain": [
       "class\n",
       "Iris-setosa        50\n",
       "Iris-versicolor    50\n",
       "Iris-virginica     50\n",
       "Name: count, dtype: int64"
      ]
     },
     "execution_count": 28,
     "metadata": {},
     "output_type": "execute_result"
    }
   ],
   "source": [
    "# Calculo utilizando método value_counts()\n",
    "df[\"class\"].value_counts()"
   ]
  },
  {
   "cell_type": "markdown",
   "id": "46ae6dac-9687-4feb-bb26-4cebb29b2cc1",
   "metadata": {},
   "source": [
    "**Respuesta:** De acuerdo al análisis, existen 50 filas para cada tipo de flor (Setosa, Versicolor y Virginica), respectivamente."
   ]
  }
 ],
 "metadata": {
  "kernelspec": {
   "display_name": "proyecto_final (Python 3.12)",
   "language": "python",
   "name": "proyecto_final"
  },
  "language_info": {
   "codemirror_mode": {
    "name": "ipython",
    "version": 3
   },
   "file_extension": ".py",
   "mimetype": "text/x-python",
   "name": "python",
   "nbconvert_exporter": "python",
   "pygments_lexer": "ipython3",
   "version": "3.12.4"
  }
 },
 "nbformat": 4,
 "nbformat_minor": 5
}
